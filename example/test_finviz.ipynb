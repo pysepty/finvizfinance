{
  "nbformat": 4,
  "nbformat_minor": 0,
  "metadata": {
    "hide_input": false,
    "kernelspec": {
      "display_name": "Python 3",
      "language": "python",
      "name": "python3"
    },
    "language_info": {
      "codemirror_mode": {
        "name": "ipython",
        "version": 3
      },
      "file_extension": ".py",
      "mimetype": "text/x-python",
      "name": "python",
      "nbconvert_exporter": "python",
      "pygments_lexer": "ipython3",
      "version": "3.7.5"
    },
    "toc": {
      "base_numbering": 1,
      "nav_menu": {},
      "number_sections": true,
      "sideBar": true,
      "skip_h1_title": false,
      "title_cell": "Table of Contents",
      "title_sidebar": "Contents",
      "toc_cell": false,
      "toc_position": {
        "height": "796.667px",
        "left": "36px",
        "top": "192.052px",
        "width": "189.219px"
      },
      "toc_section_display": true,
      "toc_window_display": false
    },
    "varInspector": {
      "cols": {
        "lenName": 16,
        "lenType": 16,
        "lenVar": 40
      },
      "kernels_config": {
        "python": {
          "delete_cmd_postfix": "",
          "delete_cmd_prefix": "del ",
          "library": "var_list.py",
          "varRefreshCmd": "print(var_dic_list())"
        },
        "r": {
          "delete_cmd_postfix": ") ",
          "delete_cmd_prefix": "rm(",
          "library": "var_list.r",
          "varRefreshCmd": "cat(var_dic_list()) "
        }
      },
      "types_to_exclude": [
        "module",
        "function",
        "builtin_function_or_method",
        "instance",
        "_Feature"
      ],
      "window_display": false
    },
    "colab": {
      "name": "example.ipynb",
      "provenance": [],
      "include_colab_link": true
    }
  },
  "cells": [
    {
      "cell_type": "markdown",
      "metadata": {
        "id": "view-in-github",
        "colab_type": "text"
      },
      "source": [
        "<a href=\"https://colab.research.google.com/github/pysepty/finvizfinance/blob/master/example/test_finviz.ipynb\" target=\"_parent\"><img src=\"https://colab.research.google.com/assets/colab-badge.svg\" alt=\"Open In Colab\"/></a>"
      ]
    },
    {
      "cell_type": "markdown",
      "metadata": {
        "id": "gtH0ZtITT_N5"
      },
      "source": [
        "# Finviz Finance"
      ]
    },
    {
      "cell_type": "markdown",
      "metadata": {
        "id": "0B_BD_GbT_OG"
      },
      "source": [
        "## Quote"
      ]
    },
    {
      "cell_type": "code",
      "metadata": {
        "id": "Hv4z6qgSUVL3",
        "outputId": "9cd759fa-685c-45f3-e5ad-9973b140aae5",
        "colab": {
          "base_uri": "https://localhost:8080/"
        }
      },
      "source": [
        "!pip install finvizfinance"
      ],
      "execution_count": 2,
      "outputs": [
        {
          "output_type": "stream",
          "text": [
            "Collecting finvizfinance\n",
            "  Downloading finvizfinance-0.9.9-py3-none-any.whl (35 kB)\n",
            "Requirement already satisfied: pandas in /usr/local/lib/python3.7/dist-packages (from finvizfinance) (1.1.5)\n",
            "Requirement already satisfied: requests in /usr/local/lib/python3.7/dist-packages (from finvizfinance) (2.23.0)\n",
            "Requirement already satisfied: lxml in /usr/local/lib/python3.7/dist-packages (from finvizfinance) (4.2.6)\n",
            "Collecting datetime\n",
            "  Downloading DateTime-4.3-py2.py3-none-any.whl (60 kB)\n",
            "\u001b[?25l\r\u001b[K     |█████▌                          | 10 kB 24.1 MB/s eta 0:00:01\r\u001b[K     |███████████                     | 20 kB 16.0 MB/s eta 0:00:01\r\u001b[K     |████████████████▍               | 30 kB 9.3 MB/s eta 0:00:01\r\u001b[K     |█████████████████████▉          | 40 kB 7.9 MB/s eta 0:00:01\r\u001b[K     |███████████████████████████▎    | 51 kB 9.6 MB/s eta 0:00:01\r\u001b[K     |████████████████████████████████| 60 kB 4.1 MB/s \n",
            "\u001b[?25hRequirement already satisfied: bs4 in /usr/local/lib/python3.7/dist-packages (from finvizfinance) (0.0.1)\n",
            "Requirement already satisfied: beautifulsoup4 in /usr/local/lib/python3.7/dist-packages (from bs4->finvizfinance) (4.6.3)\n",
            "Requirement already satisfied: pytz in /usr/local/lib/python3.7/dist-packages (from datetime->finvizfinance) (2018.9)\n",
            "Collecting zope.interface\n",
            "  Downloading zope.interface-5.4.0-cp37-cp37m-manylinux2010_x86_64.whl (251 kB)\n",
            "\u001b[K     |████████████████████████████████| 251 kB 12.1 MB/s \n",
            "\u001b[?25hRequirement already satisfied: numpy>=1.15.4 in /usr/local/lib/python3.7/dist-packages (from pandas->finvizfinance) (1.19.5)\n",
            "Requirement already satisfied: python-dateutil>=2.7.3 in /usr/local/lib/python3.7/dist-packages (from pandas->finvizfinance) (2.8.2)\n",
            "Requirement already satisfied: six>=1.5 in /usr/local/lib/python3.7/dist-packages (from python-dateutil>=2.7.3->pandas->finvizfinance) (1.15.0)\n",
            "Requirement already satisfied: urllib3!=1.25.0,!=1.25.1,<1.26,>=1.21.1 in /usr/local/lib/python3.7/dist-packages (from requests->finvizfinance) (1.24.3)\n",
            "Requirement already satisfied: idna<3,>=2.5 in /usr/local/lib/python3.7/dist-packages (from requests->finvizfinance) (2.10)\n",
            "Requirement already satisfied: certifi>=2017.4.17 in /usr/local/lib/python3.7/dist-packages (from requests->finvizfinance) (2021.5.30)\n",
            "Requirement already satisfied: chardet<4,>=3.0.2 in /usr/local/lib/python3.7/dist-packages (from requests->finvizfinance) (3.0.4)\n",
            "Requirement already satisfied: setuptools in /usr/local/lib/python3.7/dist-packages (from zope.interface->datetime->finvizfinance) (57.4.0)\n",
            "Installing collected packages: zope.interface, datetime, finvizfinance\n",
            "Successfully installed datetime-4.3 finvizfinance-0.9.9 zope.interface-5.4.0\n"
          ],
          "name": "stdout"
        }
      ]
    },
    {
      "cell_type": "code",
      "metadata": {
        "id": "GykboXx5T_Of"
      },
      "source": [
        "import pandas as pd\n",
        "from finvizfinance.quote import finvizfinance\n",
        "\n",
        "stock = finvizfinance('tsla')"
      ],
      "execution_count": 3,
      "outputs": []
    },
    {
      "cell_type": "code",
      "metadata": {
        "id": "HWyhZnZnT_O1",
        "outputId": "52180c01-b573-42bc-b217-97ce03d5e3e2",
        "colab": {
          "base_uri": "https://localhost:8080/",
          "height": 35
        }
      },
      "source": [
        "stock.TickerCharts()"
      ],
      "execution_count": 4,
      "outputs": [
        {
          "output_type": "execute_result",
          "data": {
            "application/vnd.google.colaboratory.intrinsic+json": {
              "type": "string"
            },
            "text/plain": [
              "'https://finviz.com/chart.ashx?t=tsla&ty=c&ta=1&p=d'"
            ]
          },
          "metadata": {},
          "execution_count": 4
        }
      ]
    },
    {
      "cell_type": "code",
      "metadata": {
        "id": "NXvbGm2nT_PG",
        "outputId": "5bd78425-158c-44b8-a6fb-c7104353327f"
      },
      "source": [
        "from IPython.display import Image\n",
        "Image(filename='tsla.jpg')"
      ],
      "execution_count": null,
      "outputs": [
        {
          "data": {
            "image/jpeg": "[encoded data removed]",
            "text/plain": [
              "<IPython.core.display.Image object>"
            ]
          },
          "execution_count": 3,
          "metadata": {},
          "output_type": "execute_result"
        }
      ]
    },
    {
      "cell_type": "code",
      "metadata": {
        "id": "ZpbrFYH7T_PT"
      },
      "source": [
        "stock_fundament = stock.TickerFundament()\n",
        "stock_description = stock.TickerDescription()\n",
        "outer_ratings_df = stock.TickerOuterRatings()\n",
        "news_df = stock.TickerNews()\n",
        "inside_trader_df = stock.TickerInsideTrader()"
      ],
      "execution_count": 5,
      "outputs": []
    },
    {
      "cell_type": "code",
      "metadata": {
        "id": "y24KoFItT_Pr",
        "outputId": "3e983cca-6437-4dff-9247-a91fd4f31310",
        "colab": {
          "base_uri": "https://localhost:8080/"
        }
      },
      "source": [
        "print(stock_fundament)"
      ],
      "execution_count": 6,
      "outputs": [
        {
          "output_type": "stream",
          "text": [
            "{'Company': 'Tesla, Inc.', 'Sector': 'Consumer Cyclical', 'Industry': 'Auto Manufacturers', 'Country': 'USA', 'Index': 'S&P 500', 'P/E': '355.78', 'EPS (ttm)': '1.91', 'Insider Own': '0.10%', 'Shs Outstand': '963.33M', 'Perf Week': '-5.15%', 'Market Cap': '655.31B', 'Forward P/E': '97.65', 'EPS next Y': '31.51%', 'Insider Trans': '-15.70%', 'Shs Float': '802.29M', 'Perf Month': '4.77%', 'Income': '2.15B', 'PEG': '6.87', 'EPS next Q': '1.38', 'Inst Own': '41.30%', 'Short Float': '3.73%', 'Perf Quarter': '17.11%', 'Sales': '41.86B', 'P/S': '15.65', 'EPS this Y': '165.00%', 'Inst Trans': '-0.71%', 'Short Ratio': '1.36', 'Perf Half Y': '-4.79%', 'Book/sh': '25.54', 'P/B': '26.64', 'ROA': '4.20%', 'Target Price': '713.15', 'Perf Year': '69.91%', 'Cash/sh': '16.85', 'P/C': '40.38', 'EPS next 5Y': '51.76%', 'ROE': '10.00%', '52W Range From': '329.88', '52W Range To': '900.40', 'Perf YTD': '-3.60%', 'Dividend': '-', 'P/FCF': '71.75', 'EPS past 5Y': '19.70%', 'ROI': '5.00%', '52W High': '-21.18%', 'Beta': '1.97', 'Dividend %': '-', 'Quick Ratio': '1.20', 'Sales past 5Y': '50.80%', 'Gross Margin': '22.00%', '52W Low': '115.15%', 'ATR': '23.27', 'Employees': '70757', 'Current Ratio': '1.50', 'Sales Q/Q': '98.10%', 'Oper. Margin': '7.90%', 'RSI (14)': '57.04', 'Volatility W': '3.68%', 'Volatility M': '3.16%', 'Optionable': 'Yes', 'Debt/Eq': '0.38', 'EPS Q/Q': '915.70%', 'Profit Margin': '5.10%', 'Rel Volume': '0.94', 'Prev Close': '680.26', 'Shortable': 'Yes', 'LT Debt/Eq': '0.32', 'Earnings': 'Jul 26 AMC', 'Payout': '0.00%', 'Avg Volume': '21.94M', 'Price': '709.74', 'Recom': '2.60', 'SMA20': '2.69%', 'SMA50': '6.49%', 'SMA200': '6.04%', 'Volume': '15,848,775', 'Change': '4.33%'}\n"
          ],
          "name": "stdout"
        }
      ]
    },
    {
      "cell_type": "code",
      "metadata": {
        "id": "2X4IDcm4T_QM",
        "outputId": "de13ec36-4548-4c4e-f0b1-728cd6992792",
        "colab": {
          "base_uri": "https://localhost:8080/"
        }
      },
      "source": [
        "print(stock_description)"
      ],
      "execution_count": 7,
      "outputs": [
        {
          "output_type": "stream",
          "text": [
            "Tesla, Inc. designs, develops, manufactures, leases, and sells electric vehicles, and energy generation and storage systems in the United States, China, and internationally. The company operates in two segments, Automotive, and Energy Generation and Storage. The Automotive segment offers electric vehicles, as well as sells automotive regulatory credits. It provides sedans and sport utility vehicles through direct and used vehicle sales, a network of Tesla Superchargers, and in-app upgrades; and purchase financing and leasing services. This segment is also involved in the provision of non-warranty after-sales vehicle services, sale of used vehicles, retail merchandise, and vehicle insurance, as well as sale of products through its subsidiaries to third party customers; services for electric vehicles through its company-owned service locations, and Tesla mobile service technicians; and vehicle limited warranties and extended service plans. The Energy Generation and Storage segment engages in the design, manufacture, installation, sale, and leasing of solar energy generation and energy storage products, and related services to residential, commercial, and industrial customers and utilities through its website, stores, and galleries, as well as through a network of channel partners. This segment also offers service and repairs to its energy product customers, including under warranty; and various financing options to its solar customers. The company was formerly known as Tesla Motors, Inc. and changed its name to Tesla, Inc. in February 2017. Tesla, Inc. was founded in 2003 and is headquartered in Palo Alto, California.\n"
          ],
          "name": "stdout"
        }
      ]
    },
    {
      "cell_type": "code",
      "metadata": {
        "id": "q3foYFyHT_Qk",
        "outputId": "46f94d8a-0d41-41b3-8673-cc2bae797190",
        "colab": {
          "base_uri": "https://localhost:8080/",
          "height": 204
        }
      },
      "source": [
        "outer_ratings_df.head()"
      ],
      "execution_count": 8,
      "outputs": [
        {
          "output_type": "execute_result",
          "data": {
            "text/html": [
              "<div>\n",
              "<style scoped>\n",
              "    .dataframe tbody tr th:only-of-type {\n",
              "        vertical-align: middle;\n",
              "    }\n",
              "\n",
              "    .dataframe tbody tr th {\n",
              "        vertical-align: top;\n",
              "    }\n",
              "\n",
              "    .dataframe thead th {\n",
              "        text-align: right;\n",
              "    }\n",
              "</style>\n",
              "<table border=\"1\" class=\"dataframe\">\n",
              "  <thead>\n",
              "    <tr style=\"text-align: right;\">\n",
              "      <th></th>\n",
              "      <th>Date</th>\n",
              "      <th>Status</th>\n",
              "      <th>Outer</th>\n",
              "      <th>Rating</th>\n",
              "      <th>Price</th>\n",
              "    </tr>\n",
              "  </thead>\n",
              "  <tbody>\n",
              "    <tr>\n",
              "      <th>0</th>\n",
              "      <td>2021-08-17</td>\n",
              "      <td>Reiterated</td>\n",
              "      <td>Bernstein</td>\n",
              "      <td>Underperform</td>\n",
              "      <td>$180 → $300</td>\n",
              "    </tr>\n",
              "    <tr>\n",
              "      <th>1</th>\n",
              "      <td>2021-08-12</td>\n",
              "      <td>Reiterated</td>\n",
              "      <td>UBS</td>\n",
              "      <td>Neutral</td>\n",
              "      <td>$660 → $725</td>\n",
              "    </tr>\n",
              "    <tr>\n",
              "      <th>2</th>\n",
              "      <td>2021-08-09</td>\n",
              "      <td>Upgrade</td>\n",
              "      <td>Jefferies</td>\n",
              "      <td>Hold → Buy</td>\n",
              "      <td>$700 → $850</td>\n",
              "    </tr>\n",
              "    <tr>\n",
              "      <th>3</th>\n",
              "      <td>2021-08-03</td>\n",
              "      <td>Reiterated</td>\n",
              "      <td>Piper Sandler</td>\n",
              "      <td>Overweight</td>\n",
              "      <td>$1200</td>\n",
              "    </tr>\n",
              "    <tr>\n",
              "      <th>4</th>\n",
              "      <td>2021-07-29</td>\n",
              "      <td>Upgrade</td>\n",
              "      <td>DZ Bank</td>\n",
              "      <td>Sell → Buy</td>\n",
              "      <td>$750</td>\n",
              "    </tr>\n",
              "  </tbody>\n",
              "</table>\n",
              "</div>"
            ],
            "text/plain": [
              "        Date      Status          Outer        Rating        Price\n",
              "0 2021-08-17  Reiterated      Bernstein  Underperform  $180 → $300\n",
              "1 2021-08-12  Reiterated            UBS       Neutral  $660 → $725\n",
              "2 2021-08-09     Upgrade      Jefferies    Hold → Buy  $700 → $850\n",
              "3 2021-08-03  Reiterated  Piper Sandler    Overweight        $1200\n",
              "4 2021-07-29     Upgrade        DZ Bank    Sell → Buy         $750"
            ]
          },
          "metadata": {},
          "execution_count": 8
        }
      ]
    },
    {
      "cell_type": "code",
      "metadata": {
        "id": "dze2R2MRT_RW",
        "outputId": "48e89e00-4ab3-45d6-f579-fc28ed3468a6",
        "colab": {
          "base_uri": "https://localhost:8080/",
          "height": 204
        }
      },
      "source": [
        "news_df.head()"
      ],
      "execution_count": 9,
      "outputs": [
        {
          "output_type": "execute_result",
          "data": {
            "text/html": [
              "<div>\n",
              "<style scoped>\n",
              "    .dataframe tbody tr th:only-of-type {\n",
              "        vertical-align: middle;\n",
              "    }\n",
              "\n",
              "    .dataframe tbody tr th {\n",
              "        vertical-align: top;\n",
              "    }\n",
              "\n",
              "    .dataframe thead th {\n",
              "        text-align: right;\n",
              "    }\n",
              "</style>\n",
              "<table border=\"1\" class=\"dataframe\">\n",
              "  <thead>\n",
              "    <tr style=\"text-align: right;\">\n",
              "      <th></th>\n",
              "      <th>Date</th>\n",
              "      <th>Title</th>\n",
              "      <th>Link</th>\n",
              "    </tr>\n",
              "  </thead>\n",
              "  <tbody>\n",
              "    <tr>\n",
              "      <th>0</th>\n",
              "      <td>2021-08-23 13:49:00</td>\n",
              "      <td>Cathie Wood is Doubling Down on These 10 Stocks</td>\n",
              "      <td>https://finance.yahoo.com/news/cathie-wood-dou...</td>\n",
              "    </tr>\n",
              "    <tr>\n",
              "      <th>1</th>\n",
              "      <td>2021-08-23 13:37:00</td>\n",
              "      <td>Why Wedbush Calls Tesla Bot A Distraction</td>\n",
              "      <td>https://finance.yahoo.com/news/why-wedbush-cal...</td>\n",
              "    </tr>\n",
              "    <tr>\n",
              "      <th>2</th>\n",
              "      <td>2021-08-23 13:21:00</td>\n",
              "      <td>Why Tesla Stock Jumped on Monday</td>\n",
              "      <td>https://www.fool.com/investing/2021/08/23/why-...</td>\n",
              "    </tr>\n",
              "    <tr>\n",
              "      <th>3</th>\n",
              "      <td>2021-08-23 13:20:00</td>\n",
              "      <td>5 Best Chinese Stocks To Buy And Watch As Beij...</td>\n",
              "      <td>https://www.investors.com/news/best-chinese-st...</td>\n",
              "    </tr>\n",
              "    <tr>\n",
              "      <th>4</th>\n",
              "      <td>2021-08-23 13:15:00</td>\n",
              "      <td>Is Nio Stock A Buy As China's Tesla Plans 3 Ne...</td>\n",
              "      <td>https://www.investors.com/news/nio-stock-buy-n...</td>\n",
              "    </tr>\n",
              "  </tbody>\n",
              "</table>\n",
              "</div>"
            ],
            "text/plain": [
              "                 Date  ...                                               Link\n",
              "0 2021-08-23 13:49:00  ...  https://finance.yahoo.com/news/cathie-wood-dou...\n",
              "1 2021-08-23 13:37:00  ...  https://finance.yahoo.com/news/why-wedbush-cal...\n",
              "2 2021-08-23 13:21:00  ...  https://www.fool.com/investing/2021/08/23/why-...\n",
              "3 2021-08-23 13:20:00  ...  https://www.investors.com/news/best-chinese-st...\n",
              "4 2021-08-23 13:15:00  ...  https://www.investors.com/news/nio-stock-buy-n...\n",
              "\n",
              "[5 rows x 3 columns]"
            ]
          },
          "metadata": {},
          "execution_count": 9
        }
      ]
    },
    {
      "cell_type": "code",
      "metadata": {
        "id": "ZBuRepC3T_Rb",
        "outputId": "b0695f36-4539-46a2-a084-af26feb69b35",
        "colab": {
          "base_uri": "https://localhost:8080/",
          "height": 306
        }
      },
      "source": [
        "inside_trader_df.head()"
      ],
      "execution_count": 10,
      "outputs": [
        {
          "output_type": "execute_result",
          "data": {
            "text/html": [
              "<div>\n",
              "<style scoped>\n",
              "    .dataframe tbody tr th:only-of-type {\n",
              "        vertical-align: middle;\n",
              "    }\n",
              "\n",
              "    .dataframe tbody tr th {\n",
              "        vertical-align: top;\n",
              "    }\n",
              "\n",
              "    .dataframe thead th {\n",
              "        text-align: right;\n",
              "    }\n",
              "</style>\n",
              "<table border=\"1\" class=\"dataframe\">\n",
              "  <thead>\n",
              "    <tr style=\"text-align: right;\">\n",
              "      <th></th>\n",
              "      <th>Insider Trading</th>\n",
              "      <th>Relationship</th>\n",
              "      <th>Date</th>\n",
              "      <th>Transaction</th>\n",
              "      <th>Cost</th>\n",
              "      <th>#Shares</th>\n",
              "      <th>Value ($)</th>\n",
              "      <th>#Shares Total</th>\n",
              "      <th>SEC Form 4</th>\n",
              "      <th>Insider_id</th>\n",
              "    </tr>\n",
              "  </thead>\n",
              "  <tbody>\n",
              "    <tr>\n",
              "      <th>0</th>\n",
              "      <td>Kirkhorn Zachary</td>\n",
              "      <td>Chief Financial Officer</td>\n",
              "      <td>Aug 17</td>\n",
              "      <td>Sale</td>\n",
              "      <td>672.59</td>\n",
              "      <td>1250.0</td>\n",
              "      <td>840738.0</td>\n",
              "      <td>54257.0</td>\n",
              "      <td>Aug 19 08:07 PM</td>\n",
              "      <td>1771364</td>\n",
              "    </tr>\n",
              "    <tr>\n",
              "      <th>1</th>\n",
              "      <td>Baglino Andrew D</td>\n",
              "      <td>SVP Powertrain and Energy Eng.</td>\n",
              "      <td>Aug 06</td>\n",
              "      <td>Option Exercise</td>\n",
              "      <td>51.64</td>\n",
              "      <td>10000.0</td>\n",
              "      <td>516400.0</td>\n",
              "      <td>27997.0</td>\n",
              "      <td>Aug 10 08:08 PM</td>\n",
              "      <td>1790565</td>\n",
              "    </tr>\n",
              "    <tr>\n",
              "      <th>2</th>\n",
              "      <td>Baglino Andrew D</td>\n",
              "      <td>SVP Powertrain and Energy Eng.</td>\n",
              "      <td>Aug 06</td>\n",
              "      <td>Sale</td>\n",
              "      <td>711.04</td>\n",
              "      <td>10000.0</td>\n",
              "      <td>7110360.0</td>\n",
              "      <td>17997.0</td>\n",
              "      <td>Aug 10 08:08 PM</td>\n",
              "      <td>1790565</td>\n",
              "    </tr>\n",
              "    <tr>\n",
              "      <th>3</th>\n",
              "      <td>DENHOLM ROBYN M</td>\n",
              "      <td>Director</td>\n",
              "      <td>Aug 02</td>\n",
              "      <td>Option Exercise</td>\n",
              "      <td>52.38</td>\n",
              "      <td>31250.0</td>\n",
              "      <td>1636875.0</td>\n",
              "      <td>36250.0</td>\n",
              "      <td>Aug 04 08:27 PM</td>\n",
              "      <td>1242782</td>\n",
              "    </tr>\n",
              "    <tr>\n",
              "      <th>4</th>\n",
              "      <td>DENHOLM ROBYN M</td>\n",
              "      <td>Director</td>\n",
              "      <td>Aug 02</td>\n",
              "      <td>Sale</td>\n",
              "      <td>707.60</td>\n",
              "      <td>31250.0</td>\n",
              "      <td>22112634.0</td>\n",
              "      <td>5000.0</td>\n",
              "      <td>Aug 04 08:27 PM</td>\n",
              "      <td>1242782</td>\n",
              "    </tr>\n",
              "  </tbody>\n",
              "</table>\n",
              "</div>"
            ],
            "text/plain": [
              "    Insider Trading                    Relationship  ...       SEC Form 4 Insider_id\n",
              "0  Kirkhorn Zachary         Chief Financial Officer  ...  Aug 19 08:07 PM    1771364\n",
              "1  Baglino Andrew D  SVP Powertrain and Energy Eng.  ...  Aug 10 08:08 PM    1790565\n",
              "2  Baglino Andrew D  SVP Powertrain and Energy Eng.  ...  Aug 10 08:08 PM    1790565\n",
              "3   DENHOLM ROBYN M                        Director  ...  Aug 04 08:27 PM    1242782\n",
              "4   DENHOLM ROBYN M                        Director  ...  Aug 04 08:27 PM    1242782\n",
              "\n",
              "[5 rows x 10 columns]"
            ]
          },
          "metadata": {},
          "execution_count": 10
        }
      ]
    },
    {
      "cell_type": "markdown",
      "metadata": {
        "id": "8ZY_hZh1T_Rj"
      },
      "source": [
        "## News"
      ]
    },
    {
      "cell_type": "code",
      "metadata": {
        "id": "-pyk7NnNT_Rs"
      },
      "source": [
        "from finvizfinance.news import News\n",
        "fnews = News()\n",
        "all_news = fnews.getNews()"
      ],
      "execution_count": 11,
      "outputs": []
    },
    {
      "cell_type": "code",
      "metadata": {
        "id": "-ai6xCowT_R4",
        "outputId": "ec843985-3d7b-47ba-f85c-815442b12fcb",
        "colab": {
          "base_uri": "https://localhost:8080/",
          "height": 204
        }
      },
      "source": [
        "all_news['news'].head()"
      ],
      "execution_count": 12,
      "outputs": [
        {
          "output_type": "execute_result",
          "data": {
            "text/html": [
              "<div>\n",
              "<style scoped>\n",
              "    .dataframe tbody tr th:only-of-type {\n",
              "        vertical-align: middle;\n",
              "    }\n",
              "\n",
              "    .dataframe tbody tr th {\n",
              "        vertical-align: top;\n",
              "    }\n",
              "\n",
              "    .dataframe thead th {\n",
              "        text-align: right;\n",
              "    }\n",
              "</style>\n",
              "<table border=\"1\" class=\"dataframe\">\n",
              "  <thead>\n",
              "    <tr style=\"text-align: right;\">\n",
              "      <th></th>\n",
              "      <th>Date</th>\n",
              "      <th>Title</th>\n",
              "      <th>Source</th>\n",
              "      <th>Link</th>\n",
              "    </tr>\n",
              "  </thead>\n",
              "  <tbody>\n",
              "    <tr>\n",
              "      <th>0</th>\n",
              "      <td>02:42PM</td>\n",
              "      <td>Richard Branson's Virgin Orbit to go public th...</td>\n",
              "      <td>www.foxbusiness.com</td>\n",
              "      <td>https://www.foxbusiness.com/markets/richard-br...</td>\n",
              "    </tr>\n",
              "    <tr>\n",
              "      <th>1</th>\n",
              "      <td>02:37PM</td>\n",
              "      <td>US STOCKS-S&amp;P 500, Nasdaq on course for record...</td>\n",
              "      <td>www.reuters.com</td>\n",
              "      <td>https://www.reuters.com/article/usa-stocks/us-...</td>\n",
              "    </tr>\n",
              "    <tr>\n",
              "      <th>2</th>\n",
              "      <td>01:56PM</td>\n",
              "      <td>Netflix stock rallies toward longest win strea...</td>\n",
              "      <td>feeds.marketwatch.com</td>\n",
              "      <td>http://feeds.marketwatch.com/~r/marketwatch/ma...</td>\n",
              "    </tr>\n",
              "    <tr>\n",
              "      <th>3</th>\n",
              "      <td>01:53PM</td>\n",
              "      <td>UBS Wealth Management lifts S&amp;P 500 2021 targe...</td>\n",
              "      <td>feeds.marketwatch.com</td>\n",
              "      <td>http://feeds.marketwatch.com/~r/marketwatch/ma...</td>\n",
              "    </tr>\n",
              "    <tr>\n",
              "      <th>4</th>\n",
              "      <td>01:43PM</td>\n",
              "      <td>Gold futures climb back above $1,800 to highes...</td>\n",
              "      <td>feeds.marketwatch.com</td>\n",
              "      <td>http://feeds.marketwatch.com/~r/marketwatch/ma...</td>\n",
              "    </tr>\n",
              "  </tbody>\n",
              "</table>\n",
              "</div>"
            ],
            "text/plain": [
              "      Date  ...                                               Link\n",
              "0  02:42PM  ...  https://www.foxbusiness.com/markets/richard-br...\n",
              "1  02:37PM  ...  https://www.reuters.com/article/usa-stocks/us-...\n",
              "2  01:56PM  ...  http://feeds.marketwatch.com/~r/marketwatch/ma...\n",
              "3  01:53PM  ...  http://feeds.marketwatch.com/~r/marketwatch/ma...\n",
              "4  01:43PM  ...  http://feeds.marketwatch.com/~r/marketwatch/ma...\n",
              "\n",
              "[5 rows x 4 columns]"
            ]
          },
          "metadata": {},
          "execution_count": 12
        }
      ]
    },
    {
      "cell_type": "code",
      "metadata": {
        "id": "bW6a_euCT_R_",
        "outputId": "feb211e7-b0a4-4f92-8871-785b03878539",
        "colab": {
          "base_uri": "https://localhost:8080/",
          "height": 204
        }
      },
      "source": [
        "all_news['blogs'].head()"
      ],
      "execution_count": 13,
      "outputs": [
        {
          "output_type": "execute_result",
          "data": {
            "text/html": [
              "<div>\n",
              "<style scoped>\n",
              "    .dataframe tbody tr th:only-of-type {\n",
              "        vertical-align: middle;\n",
              "    }\n",
              "\n",
              "    .dataframe tbody tr th {\n",
              "        vertical-align: top;\n",
              "    }\n",
              "\n",
              "    .dataframe thead th {\n",
              "        text-align: right;\n",
              "    }\n",
              "</style>\n",
              "<table border=\"1\" class=\"dataframe\">\n",
              "  <thead>\n",
              "    <tr style=\"text-align: right;\">\n",
              "      <th></th>\n",
              "      <th>Date</th>\n",
              "      <th>Title</th>\n",
              "      <th>Source</th>\n",
              "      <th>Link</th>\n",
              "    </tr>\n",
              "  </thead>\n",
              "  <tbody>\n",
              "    <tr>\n",
              "      <th>0</th>\n",
              "      <td>02:40PM</td>\n",
              "      <td>Morgan Stanley: The US Consumer Is Headed For ...</td>\n",
              "      <td>zerohedge</td>\n",
              "      <td>http://feedproxy.google.com/~r/zerohedge/feed/...</td>\n",
              "    </tr>\n",
              "    <tr>\n",
              "      <th>1</th>\n",
              "      <td>02:37PM</td>\n",
              "      <td>Europe Builds Trump's Wall, But Who's Paying F...</td>\n",
              "      <td>mishtalk.com</td>\n",
              "      <td>https://mishtalk.com/economics/europe-builds-t...</td>\n",
              "    </tr>\n",
              "    <tr>\n",
              "      <th>2</th>\n",
              "      <td>02:01PM</td>\n",
              "      <td>Goldman: Here's What Powell Will Say At Jackso...</td>\n",
              "      <td>zerohedge</td>\n",
              "      <td>http://feedproxy.google.com/~r/zerohedge/feed/...</td>\n",
              "    </tr>\n",
              "    <tr>\n",
              "      <th>3</th>\n",
              "      <td>01:40PM</td>\n",
              "      <td>Elon Musk's Great Plan Revealed</td>\n",
              "      <td>zerohedge</td>\n",
              "      <td>http://feedproxy.google.com/~r/zerohedge/feed/...</td>\n",
              "    </tr>\n",
              "    <tr>\n",
              "      <th>4</th>\n",
              "      <td>01:31PM</td>\n",
              "      <td>Watch Live: Biden Speaks To Reporters After FD...</td>\n",
              "      <td>zerohedge</td>\n",
              "      <td>http://feedproxy.google.com/~r/zerohedge/feed/...</td>\n",
              "    </tr>\n",
              "  </tbody>\n",
              "</table>\n",
              "</div>"
            ],
            "text/plain": [
              "      Date  ...                                               Link\n",
              "0  02:40PM  ...  http://feedproxy.google.com/~r/zerohedge/feed/...\n",
              "1  02:37PM  ...  https://mishtalk.com/economics/europe-builds-t...\n",
              "2  02:01PM  ...  http://feedproxy.google.com/~r/zerohedge/feed/...\n",
              "3  01:40PM  ...  http://feedproxy.google.com/~r/zerohedge/feed/...\n",
              "4  01:31PM  ...  http://feedproxy.google.com/~r/zerohedge/feed/...\n",
              "\n",
              "[5 rows x 4 columns]"
            ]
          },
          "metadata": {},
          "execution_count": 13
        }
      ]
    },
    {
      "cell_type": "markdown",
      "metadata": {
        "id": "OdOsaK9hT_SB"
      },
      "source": [
        "## Insider"
      ]
    },
    {
      "cell_type": "code",
      "metadata": {
        "id": "19X6xcZ1T_SB",
        "outputId": "cce1cd48-e2b3-4b79-880e-54223ac2495d",
        "colab": {
          "base_uri": "https://localhost:8080/",
          "height": 204
        }
      },
      "source": [
        "from finvizfinance.insider import Insider\n",
        "finsider = Insider(option='top owner trade')\n",
        "finsider.getInsider().head()"
      ],
      "execution_count": 14,
      "outputs": [
        {
          "output_type": "execute_result",
          "data": {
            "text/html": [
              "<div>\n",
              "<style scoped>\n",
              "    .dataframe tbody tr th:only-of-type {\n",
              "        vertical-align: middle;\n",
              "    }\n",
              "\n",
              "    .dataframe tbody tr th {\n",
              "        vertical-align: top;\n",
              "    }\n",
              "\n",
              "    .dataframe thead th {\n",
              "        text-align: right;\n",
              "    }\n",
              "</style>\n",
              "<table border=\"1\" class=\"dataframe\">\n",
              "  <thead>\n",
              "    <tr style=\"text-align: right;\">\n",
              "      <th></th>\n",
              "      <th>Ticker</th>\n",
              "      <th>Owner</th>\n",
              "      <th>Relationship</th>\n",
              "      <th>Date</th>\n",
              "      <th>Transaction</th>\n",
              "      <th>Cost</th>\n",
              "      <th>#Shares</th>\n",
              "      <th>Value ($)</th>\n",
              "      <th>#Shares Total</th>\n",
              "      <th>SEC Form 4</th>\n",
              "    </tr>\n",
              "  </thead>\n",
              "  <tbody>\n",
              "    <tr>\n",
              "      <th>0</th>\n",
              "      <td>GTES</td>\n",
              "      <td>Omaha Aggregator (Cayman) L.P.</td>\n",
              "      <td>10% Owner</td>\n",
              "      <td>Aug 16</td>\n",
              "      <td>Sale</td>\n",
              "      <td>15.36</td>\n",
              "      <td>28750000.0</td>\n",
              "      <td>441600000.0</td>\n",
              "      <td>289233.0</td>\n",
              "      <td>Aug 18 05:02 PM</td>\n",
              "    </tr>\n",
              "    <tr>\n",
              "      <th>1</th>\n",
              "      <td>GTES</td>\n",
              "      <td>Blackstone Inc</td>\n",
              "      <td>10% Owner</td>\n",
              "      <td>Aug 16</td>\n",
              "      <td>Sale</td>\n",
              "      <td>15.36</td>\n",
              "      <td>28750000.0</td>\n",
              "      <td>441600000.0</td>\n",
              "      <td>289233.0</td>\n",
              "      <td>Aug 18 05:07 PM</td>\n",
              "    </tr>\n",
              "    <tr>\n",
              "      <th>2</th>\n",
              "      <td>JELD</td>\n",
              "      <td>ONEX CORP</td>\n",
              "      <td>10% Owner</td>\n",
              "      <td>Aug 18</td>\n",
              "      <td>Sale</td>\n",
              "      <td>28.50</td>\n",
              "      <td>14883094.0</td>\n",
              "      <td>424168179.0</td>\n",
              "      <td>0.0</td>\n",
              "      <td>Aug 18 07:54 PM</td>\n",
              "    </tr>\n",
              "    <tr>\n",
              "      <th>3</th>\n",
              "      <td>PING</td>\n",
              "      <td>VEP Group, LLC</td>\n",
              "      <td>10% Owner</td>\n",
              "      <td>Aug 18</td>\n",
              "      <td>Sale</td>\n",
              "      <td>23.60</td>\n",
              "      <td>6000000.0</td>\n",
              "      <td>141600000.0</td>\n",
              "      <td>20735350.0</td>\n",
              "      <td>Aug 18 04:54 PM</td>\n",
              "    </tr>\n",
              "    <tr>\n",
              "      <th>4</th>\n",
              "      <td>CWK</td>\n",
              "      <td>TPG Asia Advisors VI, Inc.</td>\n",
              "      <td>10% Owner</td>\n",
              "      <td>Aug 16</td>\n",
              "      <td>Sale</td>\n",
              "      <td>18.25</td>\n",
              "      <td>6514870.0</td>\n",
              "      <td>118896378.0</td>\n",
              "      <td>37753672.0</td>\n",
              "      <td>Aug 18 04:17 PM</td>\n",
              "    </tr>\n",
              "  </tbody>\n",
              "</table>\n",
              "</div>"
            ],
            "text/plain": [
              "  Ticker                           Owner  ... #Shares Total       SEC Form 4\n",
              "0   GTES  Omaha Aggregator (Cayman) L.P.  ...      289233.0  Aug 18 05:02 PM\n",
              "1   GTES                  Blackstone Inc  ...      289233.0  Aug 18 05:07 PM\n",
              "2   JELD                       ONEX CORP  ...           0.0  Aug 18 07:54 PM\n",
              "3   PING                  VEP Group, LLC  ...    20735350.0  Aug 18 04:54 PM\n",
              "4    CWK      TPG Asia Advisors VI, Inc.  ...    37753672.0  Aug 18 04:17 PM\n",
              "\n",
              "[5 rows x 10 columns]"
            ]
          },
          "metadata": {},
          "execution_count": 14
        }
      ]
    },
    {
      "cell_type": "markdown",
      "metadata": {
        "id": "mG4G_kwtT_SY"
      },
      "source": [
        "Use case: getting specific insider information"
      ]
    },
    {
      "cell_type": "code",
      "metadata": {
        "id": "PBXsWcfKT_Sa",
        "outputId": "58936351-8174-49da-a313-724053630a53",
        "colab": {
          "base_uri": "https://localhost:8080/",
          "height": 204
        }
      },
      "source": [
        "from finvizfinance.insider import Insider\n",
        "finsider = Insider(option='1771340')\n",
        "finsider.getInsider().head()"
      ],
      "execution_count": 15,
      "outputs": [
        {
          "output_type": "execute_result",
          "data": {
            "text/html": [
              "<div>\n",
              "<style scoped>\n",
              "    .dataframe tbody tr th:only-of-type {\n",
              "        vertical-align: middle;\n",
              "    }\n",
              "\n",
              "    .dataframe tbody tr th {\n",
              "        vertical-align: top;\n",
              "    }\n",
              "\n",
              "    .dataframe thead th {\n",
              "        text-align: right;\n",
              "    }\n",
              "</style>\n",
              "<table border=\"1\" class=\"dataframe\">\n",
              "  <thead>\n",
              "    <tr style=\"text-align: right;\">\n",
              "      <th></th>\n",
              "      <th>Ticker</th>\n",
              "      <th>Owner</th>\n",
              "      <th>Relationship</th>\n",
              "      <th>Date</th>\n",
              "      <th>Transaction</th>\n",
              "      <th>Cost</th>\n",
              "      <th>#Shares</th>\n",
              "      <th>Value ($)</th>\n",
              "      <th>#Shares Total</th>\n",
              "      <th>SEC Form 4</th>\n",
              "    </tr>\n",
              "  </thead>\n",
              "  <tbody>\n",
              "    <tr>\n",
              "      <th>0</th>\n",
              "      <td>TSLA</td>\n",
              "      <td>Taneja Vaibhav</td>\n",
              "      <td>Chief Accounting Officer</td>\n",
              "      <td>Jul 06</td>\n",
              "      <td>Option Exercise</td>\n",
              "      <td>54.67</td>\n",
              "      <td>4090.0</td>\n",
              "      <td>223586.0</td>\n",
              "      <td>23771.0</td>\n",
              "      <td>Jul 08 06:59 PM</td>\n",
              "    </tr>\n",
              "    <tr>\n",
              "      <th>1</th>\n",
              "      <td>TSLA</td>\n",
              "      <td>Taneja Vaibhav</td>\n",
              "      <td>Chief Accounting Officer</td>\n",
              "      <td>Jul 06</td>\n",
              "      <td>Sale</td>\n",
              "      <td>661.59</td>\n",
              "      <td>4459.0</td>\n",
              "      <td>2950031.0</td>\n",
              "      <td>19312.0</td>\n",
              "      <td>Jul 08 06:59 PM</td>\n",
              "    </tr>\n",
              "    <tr>\n",
              "      <th>2</th>\n",
              "      <td>TSLA</td>\n",
              "      <td>Taneja Vaibhav</td>\n",
              "      <td>Chief Accounting Officer</td>\n",
              "      <td>Jun 05</td>\n",
              "      <td>Option Exercise</td>\n",
              "      <td>0.00</td>\n",
              "      <td>3668.0</td>\n",
              "      <td>0.0</td>\n",
              "      <td>21494.0</td>\n",
              "      <td>Jun 08 08:26 PM</td>\n",
              "    </tr>\n",
              "    <tr>\n",
              "      <th>3</th>\n",
              "      <td>TSLA</td>\n",
              "      <td>Taneja Vaibhav</td>\n",
              "      <td>Chief Accounting Officer</td>\n",
              "      <td>Jun 07</td>\n",
              "      <td>Sale</td>\n",
              "      <td>587.84</td>\n",
              "      <td>1813.0</td>\n",
              "      <td>1065747.0</td>\n",
              "      <td>19681.0</td>\n",
              "      <td>Jun 08 08:26 PM</td>\n",
              "    </tr>\n",
              "    <tr>\n",
              "      <th>4</th>\n",
              "      <td>TSLA</td>\n",
              "      <td>Taneja Vaibhav</td>\n",
              "      <td>Chief Accounting Officer</td>\n",
              "      <td>Apr 05</td>\n",
              "      <td>Option Exercise</td>\n",
              "      <td>54.67</td>\n",
              "      <td>4090.0</td>\n",
              "      <td>223586.0</td>\n",
              "      <td>22279.0</td>\n",
              "      <td>Apr 07 08:04 PM</td>\n",
              "    </tr>\n",
              "  </tbody>\n",
              "</table>\n",
              "</div>"
            ],
            "text/plain": [
              "  Ticker           Owner  ... #Shares Total       SEC Form 4\n",
              "0   TSLA  Taneja Vaibhav  ...       23771.0  Jul 08 06:59 PM\n",
              "1   TSLA  Taneja Vaibhav  ...       19312.0  Jul 08 06:59 PM\n",
              "2   TSLA  Taneja Vaibhav  ...       21494.0  Jun 08 08:26 PM\n",
              "3   TSLA  Taneja Vaibhav  ...       19681.0  Jun 08 08:26 PM\n",
              "4   TSLA  Taneja Vaibhav  ...       22279.0  Apr 07 08:04 PM\n",
              "\n",
              "[5 rows x 10 columns]"
            ]
          },
          "metadata": {},
          "execution_count": 15
        }
      ]
    },
    {
      "cell_type": "markdown",
      "metadata": {
        "id": "VLCiFzW4T_Se"
      },
      "source": [
        "## Screener"
      ]
    },
    {
      "cell_type": "markdown",
      "metadata": {
        "id": "LK937HieT_Sf"
      },
      "source": [
        "Use case: setting filters"
      ]
    },
    {
      "cell_type": "code",
      "metadata": {
        "id": "1niy-FF8T_Sk",
        "outputId": "d39b9abe-31f4-4730-ce4f-661a1404da0d"
      },
      "source": [
        "from finvizfinance.screener.overview import Overview\n",
        "foverview = Overview()\n",
        "filters_dict = {'Exchange':'AMEX','Sector':'Basic Materials'}\n",
        "foverview.set_filter(filters_dict=filters_dict)\n",
        "df = foverview.ScreenerView(order='Company')\n",
        "df.head()"
      ],
      "execution_count": null,
      "outputs": [
        {
          "name": "stdout",
          "output_type": "stream",
          "text": [
            "[Info] loading page 1/3 ...\n",
            "[Info] loading page 2/3 ...\n",
            "[Info] loading page 3/3 ...\n"
          ]
        },
        {
          "data": {
            "text/html": [
              "<div>\n",
              "<style scoped>\n",
              "    .dataframe tbody tr th:only-of-type {\n",
              "        vertical-align: middle;\n",
              "    }\n",
              "\n",
              "    .dataframe tbody tr th {\n",
              "        vertical-align: top;\n",
              "    }\n",
              "\n",
              "    .dataframe thead th {\n",
              "        text-align: right;\n",
              "    }\n",
              "</style>\n",
              "<table border=\"1\" class=\"dataframe\">\n",
              "  <thead>\n",
              "    <tr style=\"text-align: right;\">\n",
              "      <th></th>\n",
              "      <th>Ticker</th>\n",
              "      <th>Company</th>\n",
              "      <th>Sector</th>\n",
              "      <th>Industry</th>\n",
              "      <th>Country</th>\n",
              "      <th>Market Cap</th>\n",
              "      <th>P/E</th>\n",
              "      <th>Price</th>\n",
              "      <th>Change</th>\n",
              "      <th>Volume</th>\n",
              "    </tr>\n",
              "  </thead>\n",
              "  <tbody>\n",
              "    <tr>\n",
              "      <th>0</th>\n",
              "      <td>AAU</td>\n",
              "      <td>Almaden Minerals Ltd.</td>\n",
              "      <td>Basic Materials</td>\n",
              "      <td>Gold</td>\n",
              "      <td>Canada</td>\n",
              "      <td>7.395000e+07</td>\n",
              "      <td>None</td>\n",
              "      <td>0.63</td>\n",
              "      <td>-0.0721</td>\n",
              "      <td>946411.0</td>\n",
              "    </tr>\n",
              "    <tr>\n",
              "      <th>1</th>\n",
              "      <td>USAS</td>\n",
              "      <td>Americas Gold and Silver Corporation</td>\n",
              "      <td>Basic Materials</td>\n",
              "      <td>Other Industrial Metals &amp; Mining</td>\n",
              "      <td>Canada</td>\n",
              "      <td>2.883500e+08</td>\n",
              "      <td>None</td>\n",
              "      <td>2.72</td>\n",
              "      <td>-0.0109</td>\n",
              "      <td>888371.0</td>\n",
              "    </tr>\n",
              "    <tr>\n",
              "      <th>2</th>\n",
              "      <td>AUG</td>\n",
              "      <td>Auryn Resources Inc.</td>\n",
              "      <td>Basic Materials</td>\n",
              "      <td>Other Industrial Metals &amp; Mining</td>\n",
              "      <td>Canada</td>\n",
              "      <td>2.313700e+08</td>\n",
              "      <td>14.73</td>\n",
              "      <td>2.15</td>\n",
              "      <td>-0.0092</td>\n",
              "      <td>242322.0</td>\n",
              "    </tr>\n",
              "    <tr>\n",
              "      <th>3</th>\n",
              "      <td>ASM</td>\n",
              "      <td>Avino Silver &amp; Gold Mines Ltd.</td>\n",
              "      <td>Basic Materials</td>\n",
              "      <td>Silver</td>\n",
              "      <td>Canada</td>\n",
              "      <td>9.723000e+07</td>\n",
              "      <td>None</td>\n",
              "      <td>1.10</td>\n",
              "      <td>-0.0179</td>\n",
              "      <td>1706478.0</td>\n",
              "    </tr>\n",
              "    <tr>\n",
              "      <th>4</th>\n",
              "      <td>BTG</td>\n",
              "      <td>B2Gold Corp.</td>\n",
              "      <td>Basic Materials</td>\n",
              "      <td>Gold</td>\n",
              "      <td>Canada</td>\n",
              "      <td>6.510000e+09</td>\n",
              "      <td>14.94</td>\n",
              "      <td>6.23</td>\n",
              "      <td>-0.0016</td>\n",
              "      <td>6132577.0</td>\n",
              "    </tr>\n",
              "  </tbody>\n",
              "</table>\n",
              "</div>"
            ],
            "text/plain": [
              "  Ticker                               Company           Sector  \\\n",
              "0    AAU                 Almaden Minerals Ltd.  Basic Materials   \n",
              "1   USAS  Americas Gold and Silver Corporation  Basic Materials   \n",
              "2    AUG                  Auryn Resources Inc.  Basic Materials   \n",
              "3    ASM        Avino Silver & Gold Mines Ltd.  Basic Materials   \n",
              "4    BTG                          B2Gold Corp.  Basic Materials   \n",
              "\n",
              "                           Industry Country    Market Cap    P/E  Price  \\\n",
              "0                              Gold  Canada  7.395000e+07   None   0.63   \n",
              "1  Other Industrial Metals & Mining  Canada  2.883500e+08   None   2.72   \n",
              "2  Other Industrial Metals & Mining  Canada  2.313700e+08  14.73   2.15   \n",
              "3                            Silver  Canada  9.723000e+07   None   1.10   \n",
              "4                              Gold  Canada  6.510000e+09  14.94   6.23   \n",
              "\n",
              "   Change     Volume  \n",
              "0 -0.0721   946411.0  \n",
              "1 -0.0109   888371.0  \n",
              "2 -0.0092   242322.0  \n",
              "3 -0.0179  1706478.0  \n",
              "4 -0.0016  6132577.0  "
            ]
          },
          "execution_count": 15,
          "metadata": {},
          "output_type": "execute_result"
        }
      ]
    },
    {
      "cell_type": "markdown",
      "metadata": {
        "id": "FeCMWqbTT_Sq"
      },
      "source": [
        "Use case: getting companys which are similar to TSLA."
      ]
    },
    {
      "cell_type": "code",
      "metadata": {
        "id": "gyoPvxWmT_St",
        "outputId": "23924e85-a031-4401-e2b4-7543aa225130"
      },
      "source": [
        "ticker = 'tsla'\n",
        "compare_list = ['Sector','Industry','Country']\n",
        "\n",
        "from finvizfinance.screener.financial import Financial\n",
        "ffinancial = Financial()\n",
        "df = ffinancial.compare(ticker,compare_list,verbose=0)\n",
        "df"
      ],
      "execution_count": null,
      "outputs": [
        {
          "data": {
            "text/html": [
              "<div>\n",
              "<style scoped>\n",
              "    .dataframe tbody tr th:only-of-type {\n",
              "        vertical-align: middle;\n",
              "    }\n",
              "\n",
              "    .dataframe tbody tr th {\n",
              "        vertical-align: top;\n",
              "    }\n",
              "\n",
              "    .dataframe thead th {\n",
              "        text-align: right;\n",
              "    }\n",
              "</style>\n",
              "<table border=\"1\" class=\"dataframe\">\n",
              "  <thead>\n",
              "    <tr style=\"text-align: right;\">\n",
              "      <th></th>\n",
              "      <th>Ticker</th>\n",
              "      <th>Market Cap</th>\n",
              "      <th>Dividend</th>\n",
              "      <th>ROA</th>\n",
              "      <th>ROE</th>\n",
              "      <th>ROI</th>\n",
              "      <th>Curr R</th>\n",
              "      <th>Quick R</th>\n",
              "      <th>LTDebt/Eq</th>\n",
              "      <th>Debt/Eq</th>\n",
              "      <th>Gross M</th>\n",
              "      <th>Oper M</th>\n",
              "      <th>Profit M</th>\n",
              "      <th>Earnings</th>\n",
              "      <th>Price</th>\n",
              "      <th>Change</th>\n",
              "      <th>Volume</th>\n",
              "    </tr>\n",
              "  </thead>\n",
              "  <tbody>\n",
              "    <tr>\n",
              "      <th>0</th>\n",
              "      <td>AYRO</td>\n",
              "      <td>7.893000e+07</td>\n",
              "      <td>None</td>\n",
              "      <td>-1.104</td>\n",
              "      <td>-2.219</td>\n",
              "      <td>None</td>\n",
              "      <td>1.6</td>\n",
              "      <td>1.6</td>\n",
              "      <td>0</td>\n",
              "      <td>0</td>\n",
              "      <td>None</td>\n",
              "      <td>None</td>\n",
              "      <td>None</td>\n",
              "      <td>-</td>\n",
              "      <td>3.21</td>\n",
              "      <td>0.0559</td>\n",
              "      <td>1012533.0</td>\n",
              "    </tr>\n",
              "    <tr>\n",
              "      <th>1</th>\n",
              "      <td>BLBD</td>\n",
              "      <td>3.159000e+08</td>\n",
              "      <td>None</td>\n",
              "      <td>0.031</td>\n",
              "      <td>-0.180</td>\n",
              "      <td>0.302</td>\n",
              "      <td>1.3</td>\n",
              "      <td>0.2</td>\n",
              "      <td>None</td>\n",
              "      <td>None</td>\n",
              "      <td>0.12</td>\n",
              "      <td>0.028</td>\n",
              "      <td>0.013</td>\n",
              "      <td>Aug 12/a</td>\n",
              "      <td>11.70</td>\n",
              "      <td>0.0009</td>\n",
              "      <td>145036.0</td>\n",
              "    </tr>\n",
              "    <tr>\n",
              "      <th>2</th>\n",
              "      <td>F</td>\n",
              "      <td>2.785000e+10</td>\n",
              "      <td>None</td>\n",
              "      <td>-0.008</td>\n",
              "      <td>-0.066</td>\n",
              "      <td>0.007</td>\n",
              "      <td>1.3</td>\n",
              "      <td>1.2</td>\n",
              "      <td>3.89</td>\n",
              "      <td>5.68</td>\n",
              "      <td>0.044</td>\n",
              "      <td>-0.039</td>\n",
              "      <td>-0.016</td>\n",
              "      <td>Jul 30/a</td>\n",
              "      <td>6.94</td>\n",
              "      <td>-0.0057</td>\n",
              "      <td>49043083.0</td>\n",
              "    </tr>\n",
              "    <tr>\n",
              "      <th>3</th>\n",
              "      <td>GM</td>\n",
              "      <td>4.289000e+10</td>\n",
              "      <td>None</td>\n",
              "      <td>0.006</td>\n",
              "      <td>0.037</td>\n",
              "      <td>0.032</td>\n",
              "      <td>1.1</td>\n",
              "      <td>1</td>\n",
              "      <td>2.22</td>\n",
              "      <td>3.24</td>\n",
              "      <td>0.083</td>\n",
              "      <td>0.01</td>\n",
              "      <td>0.013</td>\n",
              "      <td>Jul 29/b</td>\n",
              "      <td>29.69</td>\n",
              "      <td>-0.0205</td>\n",
              "      <td>12985365.0</td>\n",
              "    </tr>\n",
              "    <tr>\n",
              "      <th>4</th>\n",
              "      <td>NKLA</td>\n",
              "      <td>1.544000e+10</td>\n",
              "      <td>None</td>\n",
              "      <td>-0.324</td>\n",
              "      <td>-0.340</td>\n",
              "      <td>None</td>\n",
              "      <td>None</td>\n",
              "      <td>None</td>\n",
              "      <td>0</td>\n",
              "      <td>0.01</td>\n",
              "      <td>None</td>\n",
              "      <td>None</td>\n",
              "      <td>None</td>\n",
              "      <td>Aug 04/a</td>\n",
              "      <td>39.18</td>\n",
              "      <td>0.0127</td>\n",
              "      <td>5460998.0</td>\n",
              "    </tr>\n",
              "    <tr>\n",
              "      <th>5</th>\n",
              "      <td>TSLA</td>\n",
              "      <td>3.682100e+11</td>\n",
              "      <td>None</td>\n",
              "      <td>0.010</td>\n",
              "      <td>0.046</td>\n",
              "      <td>-0.009</td>\n",
              "      <td>1.2</td>\n",
              "      <td>0.9</td>\n",
              "      <td>1.06</td>\n",
              "      <td>1.43</td>\n",
              "      <td>0.198</td>\n",
              "      <td>0.048</td>\n",
              "      <td>0.014</td>\n",
              "      <td>Jul 22/a</td>\n",
              "      <td>2023.34</td>\n",
              "      <td>0.0045</td>\n",
              "      <td>10549296.0</td>\n",
              "    </tr>\n",
              "    <tr>\n",
              "      <th>6</th>\n",
              "      <td>WKHS</td>\n",
              "      <td>1.930000e+09</td>\n",
              "      <td>None</td>\n",
              "      <td>-3.081</td>\n",
              "      <td>3.316</td>\n",
              "      <td>-1.029</td>\n",
              "      <td>0.3</td>\n",
              "      <td>0.3</td>\n",
              "      <td>None</td>\n",
              "      <td>None</td>\n",
              "      <td>None</td>\n",
              "      <td>None</td>\n",
              "      <td>None</td>\n",
              "      <td>Aug 10/b</td>\n",
              "      <td>18.20</td>\n",
              "      <td>0.1081</td>\n",
              "      <td>29521025.0</td>\n",
              "    </tr>\n",
              "  </tbody>\n",
              "</table>\n",
              "</div>"
            ],
            "text/plain": [
              "  Ticker    Market Cap Dividend    ROA    ROE    ROI Curr R Quick R LTDebt/Eq  \\\n",
              "0   AYRO  7.893000e+07     None -1.104 -2.219   None    1.6     1.6         0   \n",
              "1   BLBD  3.159000e+08     None  0.031 -0.180  0.302    1.3     0.2      None   \n",
              "2      F  2.785000e+10     None -0.008 -0.066  0.007    1.3     1.2      3.89   \n",
              "3     GM  4.289000e+10     None  0.006  0.037  0.032    1.1       1      2.22   \n",
              "4   NKLA  1.544000e+10     None -0.324 -0.340   None   None    None         0   \n",
              "5   TSLA  3.682100e+11     None  0.010  0.046 -0.009    1.2     0.9      1.06   \n",
              "6   WKHS  1.930000e+09     None -3.081  3.316 -1.029    0.3     0.3      None   \n",
              "\n",
              "  Debt/Eq Gross M Oper M Profit M  Earnings    Price  Change      Volume  \n",
              "0       0    None   None     None         -     3.21  0.0559   1012533.0  \n",
              "1    None    0.12  0.028    0.013  Aug 12/a    11.70  0.0009    145036.0  \n",
              "2    5.68   0.044 -0.039   -0.016  Jul 30/a     6.94 -0.0057  49043083.0  \n",
              "3    3.24   0.083   0.01    0.013  Jul 29/b    29.69 -0.0205  12985365.0  \n",
              "4    0.01    None   None     None  Aug 04/a    39.18  0.0127   5460998.0  \n",
              "5    1.43   0.198  0.048    0.014  Jul 22/a  2023.34  0.0045  10549296.0  \n",
              "6    None    None   None     None  Aug 10/b    18.20  0.1081  29521025.0  "
            ]
          },
          "execution_count": 16,
          "metadata": {},
          "output_type": "execute_result"
        }
      ]
    },
    {
      "cell_type": "markdown",
      "metadata": {
        "id": "phLZG9brT_St"
      },
      "source": [
        "Use case: getting companys that have 'Triangle Ascending' signal."
      ]
    },
    {
      "cell_type": "code",
      "metadata": {
        "id": "tmY9ipckT_St",
        "outputId": "ef554cba-6a18-4026-e134-13dce9bb1554"
      },
      "source": [
        "signal = 'Triangle Ascending'\n",
        "foverview.set_filter(signal=signal)\n",
        "df = foverview.ScreenerView()\n",
        "df.head()"
      ],
      "execution_count": null,
      "outputs": [
        {
          "name": "stdout",
          "output_type": "stream",
          "text": [
            "[Info] loading page 1/2 ...\n",
            "[Info] loading page 2/2 ...\n"
          ]
        },
        {
          "data": {
            "text/html": [
              "<div>\n",
              "<style scoped>\n",
              "    .dataframe tbody tr th:only-of-type {\n",
              "        vertical-align: middle;\n",
              "    }\n",
              "\n",
              "    .dataframe tbody tr th {\n",
              "        vertical-align: top;\n",
              "    }\n",
              "\n",
              "    .dataframe thead th {\n",
              "        text-align: right;\n",
              "    }\n",
              "</style>\n",
              "<table border=\"1\" class=\"dataframe\">\n",
              "  <thead>\n",
              "    <tr style=\"text-align: right;\">\n",
              "      <th></th>\n",
              "      <th>Ticker</th>\n",
              "      <th>Company</th>\n",
              "      <th>Sector</th>\n",
              "      <th>Industry</th>\n",
              "      <th>Country</th>\n",
              "      <th>Market Cap</th>\n",
              "      <th>P/E</th>\n",
              "      <th>Price</th>\n",
              "      <th>Change</th>\n",
              "      <th>Volume</th>\n",
              "    </tr>\n",
              "  </thead>\n",
              "  <tbody>\n",
              "    <tr>\n",
              "      <th>0</th>\n",
              "      <td>TOWN</td>\n",
              "      <td>TowneBank</td>\n",
              "      <td>Financial</td>\n",
              "      <td>Banks - Regional</td>\n",
              "      <td>USA</td>\n",
              "      <td>1.380000e+09</td>\n",
              "      <td>9.7</td>\n",
              "      <td>18.70</td>\n",
              "      <td>0.0180</td>\n",
              "      <td>206678.0</td>\n",
              "    </tr>\n",
              "    <tr>\n",
              "      <th>1</th>\n",
              "      <td>RBCAA</td>\n",
              "      <td>Republic Bancorp, Inc.</td>\n",
              "      <td>Financial</td>\n",
              "      <td>Banks - Regional</td>\n",
              "      <td>USA</td>\n",
              "      <td>6.818700e+08</td>\n",
              "      <td>7.72</td>\n",
              "      <td>31.70</td>\n",
              "      <td>0.0141</td>\n",
              "      <td>15481.0</td>\n",
              "    </tr>\n",
              "    <tr>\n",
              "      <th>2</th>\n",
              "      <td>MO</td>\n",
              "      <td>Altria Group, Inc.</td>\n",
              "      <td>Consumer Defensive</td>\n",
              "      <td>Tobacco</td>\n",
              "      <td>USA</td>\n",
              "      <td>8.095000e+10</td>\n",
              "      <td>None</td>\n",
              "      <td>43.52</td>\n",
              "      <td>-0.0118</td>\n",
              "      <td>6111766.0</td>\n",
              "    </tr>\n",
              "    <tr>\n",
              "      <th>3</th>\n",
              "      <td>AMNB</td>\n",
              "      <td>American National Bankshares Inc.</td>\n",
              "      <td>Financial</td>\n",
              "      <td>Banks - Regional</td>\n",
              "      <td>USA</td>\n",
              "      <td>2.680100e+08</td>\n",
              "      <td>8.63</td>\n",
              "      <td>23.51</td>\n",
              "      <td>0.0129</td>\n",
              "      <td>7659.0</td>\n",
              "    </tr>\n",
              "    <tr>\n",
              "      <th>4</th>\n",
              "      <td>KSCD</td>\n",
              "      <td>KFA Small Cap Quality Dividend Index ETF</td>\n",
              "      <td>Financial</td>\n",
              "      <td>Exchange Traded Fund</td>\n",
              "      <td>USA</td>\n",
              "      <td>NaN</td>\n",
              "      <td>None</td>\n",
              "      <td>23.21</td>\n",
              "      <td>-0.0018</td>\n",
              "      <td>1076.0</td>\n",
              "    </tr>\n",
              "  </tbody>\n",
              "</table>\n",
              "</div>"
            ],
            "text/plain": [
              "  Ticker                                   Company              Sector  \\\n",
              "0   TOWN                                 TowneBank           Financial   \n",
              "1  RBCAA                    Republic Bancorp, Inc.           Financial   \n",
              "2     MO                        Altria Group, Inc.  Consumer Defensive   \n",
              "3   AMNB         American National Bankshares Inc.           Financial   \n",
              "4   KSCD  KFA Small Cap Quality Dividend Index ETF           Financial   \n",
              "\n",
              "               Industry Country    Market Cap   P/E  Price  Change     Volume  \n",
              "0      Banks - Regional     USA  1.380000e+09   9.7  18.70  0.0180   206678.0  \n",
              "1      Banks - Regional     USA  6.818700e+08  7.72  31.70  0.0141    15481.0  \n",
              "2               Tobacco     USA  8.095000e+10  None  43.52 -0.0118  6111766.0  \n",
              "3      Banks - Regional     USA  2.680100e+08  8.63  23.51  0.0129     7659.0  \n",
              "4  Exchange Traded Fund     USA           NaN  None  23.21 -0.0018     1076.0  "
            ]
          },
          "execution_count": 17,
          "metadata": {},
          "output_type": "execute_result"
        }
      ]
    },
    {
      "cell_type": "markdown",
      "metadata": {
        "id": "uQmNyX2YT_Sy"
      },
      "source": [
        "Use case: Getting individual company."
      ]
    },
    {
      "cell_type": "code",
      "metadata": {
        "id": "mJya4C2jT_S1",
        "outputId": "ca5df954-fe60-4dcf-ff40-34ad1b817b00"
      },
      "source": [
        "ticker='TSLA'\n",
        "foverview.set_filter(signal='', filters_dict={}, ticker=ticker)\n",
        "df = foverview.ScreenerView()\n",
        "df.head()"
      ],
      "execution_count": null,
      "outputs": [
        {
          "name": "stdout",
          "output_type": "stream",
          "text": [
            "[Info] loading page 1/1 ...\n"
          ]
        },
        {
          "data": {
            "text/html": [
              "<div>\n",
              "<style scoped>\n",
              "    .dataframe tbody tr th:only-of-type {\n",
              "        vertical-align: middle;\n",
              "    }\n",
              "\n",
              "    .dataframe tbody tr th {\n",
              "        vertical-align: top;\n",
              "    }\n",
              "\n",
              "    .dataframe thead th {\n",
              "        text-align: right;\n",
              "    }\n",
              "</style>\n",
              "<table border=\"1\" class=\"dataframe\">\n",
              "  <thead>\n",
              "    <tr style=\"text-align: right;\">\n",
              "      <th></th>\n",
              "      <th>Ticker</th>\n",
              "      <th>Company</th>\n",
              "      <th>Sector</th>\n",
              "      <th>Industry</th>\n",
              "      <th>Country</th>\n",
              "      <th>Market Cap</th>\n",
              "      <th>P/E</th>\n",
              "      <th>Price</th>\n",
              "      <th>Change</th>\n",
              "      <th>Volume</th>\n",
              "    </tr>\n",
              "  </thead>\n",
              "  <tbody>\n",
              "    <tr>\n",
              "      <th>0</th>\n",
              "      <td>TSLA</td>\n",
              "      <td>Tesla, Inc.</td>\n",
              "      <td>Consumer Cyclical</td>\n",
              "      <td>Auto Manufacturers</td>\n",
              "      <td>USA</td>\n",
              "      <td>3.682100e+11</td>\n",
              "      <td>1041.35</td>\n",
              "      <td>2023.34</td>\n",
              "      <td>0.0045</td>\n",
              "      <td>10549296.0</td>\n",
              "    </tr>\n",
              "  </tbody>\n",
              "</table>\n",
              "</div>"
            ],
            "text/plain": [
              "  Ticker      Company             Sector            Industry Country  \\\n",
              "0   TSLA  Tesla, Inc.  Consumer Cyclical  Auto Manufacturers     USA   \n",
              "\n",
              "     Market Cap      P/E    Price  Change      Volume  \n",
              "0  3.682100e+11  1041.35  2023.34  0.0045  10549296.0  "
            ]
          },
          "execution_count": 18,
          "metadata": {},
          "output_type": "execute_result"
        }
      ]
    },
    {
      "cell_type": "markdown",
      "metadata": {
        "id": "SGCQYFY_T_S3"
      },
      "source": [
        "# Forex"
      ]
    },
    {
      "cell_type": "code",
      "metadata": {
        "id": "0W3JGIyvT_S4"
      },
      "source": [
        "from finvizfinance.forex import Forex\n",
        "fforex = Forex()\n",
        "df = fforex.performance()"
      ],
      "execution_count": null,
      "outputs": []
    },
    {
      "cell_type": "code",
      "metadata": {
        "id": "5hdmL9PhT_S5"
      },
      "source": [
        "fforex.chart('audusd')"
      ],
      "execution_count": null,
      "outputs": []
    },
    {
      "cell_type": "markdown",
      "metadata": {
        "id": "_97Z9FlTT_S5"
      },
      "source": [
        "# Crypto"
      ]
    },
    {
      "cell_type": "code",
      "metadata": {
        "id": "R7PgGjArT_S-"
      },
      "source": [
        "from finvizfinance.crypto import Crypto\n",
        "fcrypto = Crypto()\n",
        "fcrypto.performance()\n",
        "fcrypto.chart('btcusd',timeframe='5M')"
      ],
      "execution_count": null,
      "outputs": []
    },
    {
      "cell_type": "markdown",
      "metadata": {
        "id": "N_98SGdwT_TA"
      },
      "source": [
        "# Group"
      ]
    },
    {
      "cell_type": "code",
      "metadata": {
        "id": "1ob-xM97T_TA",
        "outputId": "3dca7a66-2b22-4da3-8622-896d612f0077"
      },
      "source": [
        "from finvizfinance.group.overview import Overview\n",
        "fgoverview = Overview()\n",
        "df = fgoverview.ScreenerView(group='Industry')\n",
        "df.tail()"
      ],
      "execution_count": null,
      "outputs": [
        {
          "data": {
            "text/html": [
              "<div>\n",
              "<style scoped>\n",
              "    .dataframe tbody tr th:only-of-type {\n",
              "        vertical-align: middle;\n",
              "    }\n",
              "\n",
              "    .dataframe tbody tr th {\n",
              "        vertical-align: top;\n",
              "    }\n",
              "\n",
              "    .dataframe thead th {\n",
              "        text-align: right;\n",
              "    }\n",
              "</style>\n",
              "<table border=\"1\" class=\"dataframe\">\n",
              "  <thead>\n",
              "    <tr style=\"text-align: right;\">\n",
              "      <th></th>\n",
              "      <th>Name</th>\n",
              "      <th>Stocks</th>\n",
              "      <th>Market Cap</th>\n",
              "      <th>Dividend</th>\n",
              "      <th>P/E</th>\n",
              "      <th>Fwd P/E</th>\n",
              "      <th>PEG</th>\n",
              "      <th>Float Short</th>\n",
              "      <th>Change</th>\n",
              "      <th>Volume</th>\n",
              "    </tr>\n",
              "  </thead>\n",
              "  <tbody>\n",
              "    <tr>\n",
              "      <th>139</th>\n",
              "      <td>Utilities - Regulated Electric</td>\n",
              "      <td>37</td>\n",
              "      <td>6.705700e+11</td>\n",
              "      <td>0.0331</td>\n",
              "      <td>23.03</td>\n",
              "      <td>17.75</td>\n",
              "      <td>3.9</td>\n",
              "      <td>0.0162</td>\n",
              "      <td>-0.0060</td>\n",
              "      <td>52580000.0</td>\n",
              "    </tr>\n",
              "    <tr>\n",
              "      <th>140</th>\n",
              "      <td>Utilities - Regulated Gas</td>\n",
              "      <td>12</td>\n",
              "      <td>6.018000e+10</td>\n",
              "      <td>0.0307</td>\n",
              "      <td>33.01</td>\n",
              "      <td>16.33</td>\n",
              "      <td>8.94</td>\n",
              "      <td>0.0256</td>\n",
              "      <td>-0.0118</td>\n",
              "      <td>7990000.0</td>\n",
              "    </tr>\n",
              "    <tr>\n",
              "      <th>141</th>\n",
              "      <td>Utilities - Regulated Water</td>\n",
              "      <td>15</td>\n",
              "      <td>5.362000e+10</td>\n",
              "      <td>0.0186</td>\n",
              "      <td>36.21</td>\n",
              "      <td>35.5</td>\n",
              "      <td>4.39</td>\n",
              "      <td>0.0181</td>\n",
              "      <td>0.0004</td>\n",
              "      <td>3630000.0</td>\n",
              "    </tr>\n",
              "    <tr>\n",
              "      <th>142</th>\n",
              "      <td>Utilities - Renewable</td>\n",
              "      <td>11</td>\n",
              "      <td>4.180000e+10</td>\n",
              "      <td>0.0291</td>\n",
              "      <td>41.76</td>\n",
              "      <td>68.31</td>\n",
              "      <td>3.42</td>\n",
              "      <td>0.0193</td>\n",
              "      <td>-0.0028</td>\n",
              "      <td>4000000.0</td>\n",
              "    </tr>\n",
              "    <tr>\n",
              "      <th>143</th>\n",
              "      <td>Waste Management</td>\n",
              "      <td>23</td>\n",
              "      <td>1.277200e+11</td>\n",
              "      <td>0.0133</td>\n",
              "      <td>42.81</td>\n",
              "      <td>30.24</td>\n",
              "      <td>9.85</td>\n",
              "      <td>0.0213</td>\n",
              "      <td>0.0049</td>\n",
              "      <td>10350000.0</td>\n",
              "    </tr>\n",
              "  </tbody>\n",
              "</table>\n",
              "</div>"
            ],
            "text/plain": [
              "                               Name Stocks    Market Cap Dividend    P/E  \\\n",
              "139  Utilities - Regulated Electric     37  6.705700e+11   0.0331  23.03   \n",
              "140       Utilities - Regulated Gas     12  6.018000e+10   0.0307  33.01   \n",
              "141     Utilities - Regulated Water     15  5.362000e+10   0.0186  36.21   \n",
              "142           Utilities - Renewable     11  4.180000e+10   0.0291  41.76   \n",
              "143                Waste Management     23  1.277200e+11   0.0133  42.81   \n",
              "\n",
              "    Fwd P/E   PEG  Float Short  Change      Volume  \n",
              "139   17.75   3.9       0.0162 -0.0060  52580000.0  \n",
              "140   16.33  8.94       0.0256 -0.0118   7990000.0  \n",
              "141    35.5  4.39       0.0181  0.0004   3630000.0  \n",
              "142   68.31  3.42       0.0193 -0.0028   4000000.0  \n",
              "143   30.24  9.85       0.0213  0.0049  10350000.0  "
            ]
          },
          "execution_count": 22,
          "metadata": {},
          "output_type": "execute_result"
        }
      ]
    },
    {
      "cell_type": "code",
      "metadata": {
        "id": "lvIdxKDdT_TA",
        "outputId": "dd86ded9-7cf1-4ef4-8ee4-600719e10281"
      },
      "source": [
        "from finvizfinance.group.valuation import Valuation\n",
        "fgvaluation = Valuation()\n",
        "df = fgvaluation.ScreenerView(group='Industry')\n",
        "df.tail()"
      ],
      "execution_count": null,
      "outputs": [
        {
          "data": {
            "text/html": [
              "<div>\n",
              "<style scoped>\n",
              "    .dataframe tbody tr th:only-of-type {\n",
              "        vertical-align: middle;\n",
              "    }\n",
              "\n",
              "    .dataframe tbody tr th {\n",
              "        vertical-align: top;\n",
              "    }\n",
              "\n",
              "    .dataframe thead th {\n",
              "        text-align: right;\n",
              "    }\n",
              "</style>\n",
              "<table border=\"1\" class=\"dataframe\">\n",
              "  <thead>\n",
              "    <tr style=\"text-align: right;\">\n",
              "      <th></th>\n",
              "      <th>Name</th>\n",
              "      <th>Market Cap</th>\n",
              "      <th>P/E</th>\n",
              "      <th>Fwd P/E</th>\n",
              "      <th>PEG</th>\n",
              "      <th>P/S</th>\n",
              "      <th>P/B</th>\n",
              "      <th>P/C</th>\n",
              "      <th>P/FCF</th>\n",
              "      <th>EPS past 5Y</th>\n",
              "      <th>EPS next 5Y</th>\n",
              "      <th>Sales past 5Y</th>\n",
              "      <th>Change</th>\n",
              "      <th>Volume</th>\n",
              "    </tr>\n",
              "  </thead>\n",
              "  <tbody>\n",
              "    <tr>\n",
              "      <th>139</th>\n",
              "      <td>Utilities - Regulated Electric</td>\n",
              "      <td>670.57B</td>\n",
              "      <td>23.03</td>\n",
              "      <td>17.75</td>\n",
              "      <td>3.9</td>\n",
              "      <td>2.38</td>\n",
              "      <td>1.62</td>\n",
              "      <td>33.41</td>\n",
              "      <td>45.21</td>\n",
              "      <td>0.0232</td>\n",
              "      <td>0.0590</td>\n",
              "      <td>0.0202</td>\n",
              "      <td>-0.0060</td>\n",
              "      <td>52580000.0</td>\n",
              "    </tr>\n",
              "    <tr>\n",
              "      <th>140</th>\n",
              "      <td>Utilities - Regulated Gas</td>\n",
              "      <td>60.18B</td>\n",
              "      <td>33.01</td>\n",
              "      <td>16.33</td>\n",
              "      <td>8.94</td>\n",
              "      <td>1.73</td>\n",
              "      <td>1.85</td>\n",
              "      <td>28.26</td>\n",
              "      <td>48.94</td>\n",
              "      <td>0.0274</td>\n",
              "      <td>0.0369</td>\n",
              "      <td>-0.0137</td>\n",
              "      <td>-0.0118</td>\n",
              "      <td>7990000.0</td>\n",
              "    </tr>\n",
              "    <tr>\n",
              "      <th>141</th>\n",
              "      <td>Utilities - Regulated Water</td>\n",
              "      <td>53.62B</td>\n",
              "      <td>36.21</td>\n",
              "      <td>35.50</td>\n",
              "      <td>4.39</td>\n",
              "      <td>5.22</td>\n",
              "      <td>2.95</td>\n",
              "      <td>37.65</td>\n",
              "      <td>61.32</td>\n",
              "      <td>0.0576</td>\n",
              "      <td>0.0825</td>\n",
              "      <td>0.0415</td>\n",
              "      <td>0.0004</td>\n",
              "      <td>3630000.0</td>\n",
              "    </tr>\n",
              "    <tr>\n",
              "      <th>142</th>\n",
              "      <td>Utilities - Renewable</td>\n",
              "      <td>41.80B</td>\n",
              "      <td>41.76</td>\n",
              "      <td>68.31</td>\n",
              "      <td>3.42</td>\n",
              "      <td>3.56</td>\n",
              "      <td>2.33</td>\n",
              "      <td>23.16</td>\n",
              "      <td>109.92</td>\n",
              "      <td>-0.3193</td>\n",
              "      <td>0.1221</td>\n",
              "      <td>0.1531</td>\n",
              "      <td>-0.0028</td>\n",
              "      <td>4000000.0</td>\n",
              "    </tr>\n",
              "    <tr>\n",
              "      <th>143</th>\n",
              "      <td>Waste Management</td>\n",
              "      <td>127.72B</td>\n",
              "      <td>42.81</td>\n",
              "      <td>30.24</td>\n",
              "      <td>9.85</td>\n",
              "      <td>2.90</td>\n",
              "      <td>4.52</td>\n",
              "      <td>29.42</td>\n",
              "      <td>31.41</td>\n",
              "      <td>0.1037</td>\n",
              "      <td>0.0435</td>\n",
              "      <td>0.0722</td>\n",
              "      <td>0.0049</td>\n",
              "      <td>10350000.0</td>\n",
              "    </tr>\n",
              "  </tbody>\n",
              "</table>\n",
              "</div>"
            ],
            "text/plain": [
              "                               Name Market Cap    P/E  Fwd P/E   PEG   P/S  \\\n",
              "139  Utilities - Regulated Electric    670.57B  23.03    17.75   3.9  2.38   \n",
              "140       Utilities - Regulated Gas     60.18B  33.01    16.33  8.94  1.73   \n",
              "141     Utilities - Regulated Water     53.62B  36.21    35.50  4.39  5.22   \n",
              "142           Utilities - Renewable     41.80B  41.76    68.31  3.42  3.56   \n",
              "143                Waste Management    127.72B  42.81    30.24  9.85  2.90   \n",
              "\n",
              "      P/B    P/C   P/FCF  EPS past 5Y  EPS next 5Y Sales past 5Y  Change  \\\n",
              "139  1.62  33.41   45.21       0.0232       0.0590        0.0202 -0.0060   \n",
              "140  1.85  28.26   48.94       0.0274       0.0369       -0.0137 -0.0118   \n",
              "141  2.95  37.65   61.32       0.0576       0.0825        0.0415  0.0004   \n",
              "142  2.33  23.16  109.92      -0.3193       0.1221        0.1531 -0.0028   \n",
              "143  4.52  29.42   31.41       0.1037       0.0435        0.0722  0.0049   \n",
              "\n",
              "         Volume  \n",
              "139  52580000.0  \n",
              "140   7990000.0  \n",
              "141   3630000.0  \n",
              "142   4000000.0  \n",
              "143  10350000.0  "
            ]
          },
          "execution_count": 23,
          "metadata": {},
          "output_type": "execute_result"
        }
      ]
    },
    {
      "cell_type": "code",
      "metadata": {
        "id": "eRcdhZIwT_TA",
        "outputId": "051b35fe-9361-4e5c-aaa7-0e263a13f7fe"
      },
      "source": [
        "from finvizfinance.group.performance import Performance\n",
        "fgperformance = Performance()\n",
        "df = fgperformance.ScreenerView(group='Industry')\n",
        "df.tail()"
      ],
      "execution_count": null,
      "outputs": [
        {
          "data": {
            "text/html": [
              "<div>\n",
              "<style scoped>\n",
              "    .dataframe tbody tr th:only-of-type {\n",
              "        vertical-align: middle;\n",
              "    }\n",
              "\n",
              "    .dataframe tbody tr th {\n",
              "        vertical-align: top;\n",
              "    }\n",
              "\n",
              "    .dataframe thead th {\n",
              "        text-align: right;\n",
              "    }\n",
              "</style>\n",
              "<table border=\"1\" class=\"dataframe\">\n",
              "  <thead>\n",
              "    <tr style=\"text-align: right;\">\n",
              "      <th></th>\n",
              "      <th>Name</th>\n",
              "      <th>Perf Week</th>\n",
              "      <th>Perf Month</th>\n",
              "      <th>Perf Quart</th>\n",
              "      <th>Perf Half</th>\n",
              "      <th>Perf Year</th>\n",
              "      <th>Perf YTD</th>\n",
              "      <th>Recom</th>\n",
              "      <th>Avg Volume</th>\n",
              "      <th>Rel Volume</th>\n",
              "      <th>Change</th>\n",
              "      <th>Volume</th>\n",
              "    </tr>\n",
              "  </thead>\n",
              "  <tbody>\n",
              "    <tr>\n",
              "      <th>139</th>\n",
              "      <td>Utilities - Regulated Electric</td>\n",
              "      <td>-0.32%</td>\n",
              "      <td>-0.0104</td>\n",
              "      <td>0.0468</td>\n",
              "      <td>-0.1273</td>\n",
              "      <td>-0.0514</td>\n",
              "      <td>-0.0874</td>\n",
              "      <td>2.47</td>\n",
              "      <td>70440000.0</td>\n",
              "      <td>0.75</td>\n",
              "      <td>-0.0060</td>\n",
              "      <td>52580000.0</td>\n",
              "    </tr>\n",
              "    <tr>\n",
              "      <th>140</th>\n",
              "      <td>Utilities - Regulated Gas</td>\n",
              "      <td>-1.84%</td>\n",
              "      <td>0.0134</td>\n",
              "      <td>0.0186</td>\n",
              "      <td>-0.1300</td>\n",
              "      <td>-0.1964</td>\n",
              "      <td>-0.1807</td>\n",
              "      <td>2.31</td>\n",
              "      <td>15340000.0</td>\n",
              "      <td>0.52</td>\n",
              "      <td>-0.0118</td>\n",
              "      <td>7990000.0</td>\n",
              "    </tr>\n",
              "    <tr>\n",
              "      <th>141</th>\n",
              "      <td>Utilities - Regulated Water</td>\n",
              "      <td>-2.65%</td>\n",
              "      <td>-0.0436</td>\n",
              "      <td>0.0830</td>\n",
              "      <td>-0.0598</td>\n",
              "      <td>0.0110</td>\n",
              "      <td>-0.0309</td>\n",
              "      <td>2.24</td>\n",
              "      <td>4720000.0</td>\n",
              "      <td>0.77</td>\n",
              "      <td>0.0004</td>\n",
              "      <td>3630000.0</td>\n",
              "    </tr>\n",
              "    <tr>\n",
              "      <th>142</th>\n",
              "      <td>Utilities - Renewable</td>\n",
              "      <td>3.06%</td>\n",
              "      <td>0.0856</td>\n",
              "      <td>0.1434</td>\n",
              "      <td>0.0378</td>\n",
              "      <td>0.3013</td>\n",
              "      <td>0.1548</td>\n",
              "      <td>2.16</td>\n",
              "      <td>4440000.0</td>\n",
              "      <td>0.90</td>\n",
              "      <td>-0.0028</td>\n",
              "      <td>4000000.0</td>\n",
              "    </tr>\n",
              "    <tr>\n",
              "      <th>143</th>\n",
              "      <td>Waste Management</td>\n",
              "      <td>1.29%</td>\n",
              "      <td>0.0384</td>\n",
              "      <td>0.0850</td>\n",
              "      <td>-0.0457</td>\n",
              "      <td>0.0226</td>\n",
              "      <td>0.0076</td>\n",
              "      <td>2.14</td>\n",
              "      <td>13250000.0</td>\n",
              "      <td>0.78</td>\n",
              "      <td>0.0049</td>\n",
              "      <td>10350000.0</td>\n",
              "    </tr>\n",
              "  </tbody>\n",
              "</table>\n",
              "</div>"
            ],
            "text/plain": [
              "                               Name Perf Week  Perf Month  Perf Quart  \\\n",
              "139  Utilities - Regulated Electric    -0.32%     -0.0104      0.0468   \n",
              "140       Utilities - Regulated Gas    -1.84%      0.0134      0.0186   \n",
              "141     Utilities - Regulated Water    -2.65%     -0.0436      0.0830   \n",
              "142           Utilities - Renewable     3.06%      0.0856      0.1434   \n",
              "143                Waste Management     1.29%      0.0384      0.0850   \n",
              "\n",
              "     Perf Half  Perf Year  Perf YTD  Recom  Avg Volume  Rel Volume  Change  \\\n",
              "139    -0.1273    -0.0514   -0.0874   2.47  70440000.0        0.75 -0.0060   \n",
              "140    -0.1300    -0.1964   -0.1807   2.31  15340000.0        0.52 -0.0118   \n",
              "141    -0.0598     0.0110   -0.0309   2.24   4720000.0        0.77  0.0004   \n",
              "142     0.0378     0.3013    0.1548   2.16   4440000.0        0.90 -0.0028   \n",
              "143    -0.0457     0.0226    0.0076   2.14  13250000.0        0.78  0.0049   \n",
              "\n",
              "         Volume  \n",
              "139  52580000.0  \n",
              "140   7990000.0  \n",
              "141   3630000.0  \n",
              "142   4000000.0  \n",
              "143  10350000.0  "
            ]
          },
          "execution_count": 24,
          "metadata": {},
          "output_type": "execute_result"
        }
      ]
    },
    {
      "cell_type": "markdown",
      "metadata": {
        "id": "y1uepJZwT_TA"
      },
      "source": [
        "# Earnings"
      ]
    },
    {
      "cell_type": "code",
      "metadata": {
        "id": "5KnPZu_vT_TE",
        "outputId": "a896ceee-a3bf-4b76-8ef0-bba458f4a8eb"
      },
      "source": [
        "from finvizfinance.earnings import Earnings\n",
        "\n",
        "fEarnings = Earnings()\n",
        "fEarnings.setPeriod()\n",
        "df_days = fEarnings.partitionDays(mode='financial')"
      ],
      "execution_count": null,
      "outputs": [
        {
          "ename": "AttributeError",
          "evalue": "'Earnings' object has no attribute 'setPeriod'",
          "output_type": "error",
          "traceback": [
            "\u001b[0;31m---------------------------------------------------------------------------\u001b[0m",
            "\u001b[0;31mAttributeError\u001b[0m                            Traceback (most recent call last)",
            "\u001b[0;32m<ipython-input-25-ffb581f4e2af>\u001b[0m in \u001b[0;36m<module>\u001b[0;34m\u001b[0m\n\u001b[1;32m      2\u001b[0m \u001b[0;34m\u001b[0m\u001b[0m\n\u001b[1;32m      3\u001b[0m \u001b[0mfEarnings\u001b[0m \u001b[0;34m=\u001b[0m \u001b[0mEarnings\u001b[0m\u001b[0;34m(\u001b[0m\u001b[0;34m)\u001b[0m\u001b[0;34m\u001b[0m\u001b[0;34m\u001b[0m\u001b[0m\n\u001b[0;32m----> 4\u001b[0;31m \u001b[0mfEarnings\u001b[0m\u001b[0;34m.\u001b[0m\u001b[0msetPeriod\u001b[0m\u001b[0;34m(\u001b[0m\u001b[0;34m)\u001b[0m\u001b[0;34m\u001b[0m\u001b[0;34m\u001b[0m\u001b[0m\n\u001b[0m\u001b[1;32m      5\u001b[0m \u001b[0mdf_days\u001b[0m \u001b[0;34m=\u001b[0m \u001b[0mfEarnings\u001b[0m\u001b[0;34m.\u001b[0m\u001b[0mpartitionDays\u001b[0m\u001b[0;34m(\u001b[0m\u001b[0mmode\u001b[0m\u001b[0;34m=\u001b[0m\u001b[0;34m'financial'\u001b[0m\u001b[0;34m)\u001b[0m\u001b[0;34m\u001b[0m\u001b[0;34m\u001b[0m\u001b[0m\n",
            "\u001b[0;31mAttributeError\u001b[0m: 'Earnings' object has no attribute 'setPeriod'"
          ]
        }
      ]
    },
    {
      "cell_type": "code",
      "metadata": {
        "id": "fAiu-c2NT_TG"
      },
      "source": [
        ""
      ],
      "execution_count": null,
      "outputs": []
    }
  ]
}